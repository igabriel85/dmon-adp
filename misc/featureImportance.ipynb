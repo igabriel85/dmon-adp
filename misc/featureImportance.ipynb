{
 "cells": [
  {
   "cell_type": "code",
   "execution_count": 9,
   "metadata": {
    "collapsed": true
   },
   "outputs": [],
   "source": [
    "l1 = [('bolts_0_acked', 0.063504074826300563), ('bolts_0_capacity', 0.018738119835827332), ('bolts_0_emitted', 0.073939366058978634), ('bolts_0_executeLatency', 0.0), ('bolts_0_executed', 0.019759786581047691), ('bolts_0_executors', 0.0), ('bolts_0_failed', 0.0), ('bolts_0_processLatency', 0.0029358498391100739), ('bolts_0_tasks', 0.0), ('bolts_0_transferred', 0.14554881613299731), ('bolts_1_acked', 0.088105167677245189), ('bolts_1_capacity', 0.024088527335709646), ('bolts_1_emitted', 0.080774151458348264), ('bolts_1_executeLatency', 0.0031522394646274739), ('bolts_1_executed', 0.043670276900451818), ('bolts_1_executors', 0.0), ('bolts_1_failed', 0.0), ('bolts_1_processLatency', 0.0), ('bolts_1_tasks', 0.0), ('bolts_1_transferred', 0.0), ('executorsTotal', 0.0), ('msgTimeout', 0.0), ('spouts_0_acked', 0.0), ('spouts_0_completeLatency', 0.0), ('spouts_0_emitted', 0.11392870225789191), ('spouts_0_executors', 0.0), ('spouts_0_failed', 0.0), ('spouts_0_tasks', 0.0), ('spouts_0_transferred', 0.029651485779536541), ('tasksTotal', 0.0), ('topologyStats_10m_acked', 0.0), ('topologyStats_10m_completeLatency', 0.0), ('topologyStats_10m_emitted', 0.037711825329505247), ('topologyStats_10m_failed', 0.0), ('topologyStats_10m_transferred', 0.034095915523960352), ('topologyStats_10m_window', 0.0), ('topologyStats_1d_acked', 0.0), ('topologyStats_1d_completeLatency', 0.0), ('topologyStats_1d_emitted', 0.038270869504006225), ('topologyStats_1d_failed', 0.0), ('topologyStats_1d_transferred', 0.036440128490860882), ('topologyStats_1d_window', 0.0), ('topologyStats_3h_acked', 0.0), ('topologyStats_3h_completeLatency', 0.0), ('topologyStats_3h_emitted', 0.037026151798978987), ('topologyStats_3h_failed', 0.0), ('topologyStats_3h_transferred', 0.035104036903013315), ('topologyStats_3h_window', 0.0), ('topologyStats_all_acked', 0.0), ('topologyStats_all_completeLatency', 0.0), ('topologyStats_all_emitted', 0.048183362104713232), ('topologyStats_all_failed', 0.0), ('topologyStats_all_transferred', 0.025371146196889332), ('workersTotal', 0.0)]\n",
    "l2 = [('bolts_0_acked', 0.024125662453854495), ('topologyStats_all_transferred', 0.086164712319827211), ('bolts_0_tasks', 0.0), ('bolts_0_failed', 0.0), ('bolts_0_executors', 0.0), ('topologyStats_3h_window', 0.0), ('topologyStats_all_acked', 0.0), ('topologyStats_all_completeLatency', 0.0), ('topologyStats_all_emitted', 0.075585804971765536), ('topologyStats_all_failed', 0.0), ('topologyStats_3h_emitted', 0.025402200114225965), ('topologyStats_3h_failed', 0.0), ('bolts_1_executeLatency', 0.00032386253732848277), ('bolts_1_processLatency', 0.0), ('bolts_1_tasks', 0.0), ('bolts_1_transferred', 0.0), ('bolts_1_executors', 0.0), ('bolts_1_failed', 0.0), ('bolts_1_emitted', 0.072632086981347307), ('bolts_1_executed', 0.03788124718751084), ('bolts_1_acked', 0.12990223123874797), ('bolts_1_capacity', 0.021663199952226996), ('msgTimeout', 0.0), ('executorsTotal', 0.0), ('workersTotal', 0.0), ('tasksTotal', 0.0), ('topologyStats_10m_completeLatency', 0.0), ('topologyStats_10m_acked', 0.0), ('topologyStats_10m_failed', 0.0), ('topologyStats_10m_emitted', 0.036263957450080375), ('topologyStats_1d_completeLatency', 0.0), ('topologyStats_1d_acked', 0.0), ('bolts_0_emitted', 0.017474367812996106), ('topologyStats_1d_emitted', 0.030822991751113721), ('topologyStats_10m_window', 0.0), ('topologyStats_10m_transferred', 0.042294208067904099), ('bolts_0_processLatency', 0.0041648272476037763), ('bolts_0_executeLatency', 0.0), ('topologyStats_1d_failed', 0.0), ('topologyStats_3h_transferred', 0.026865295052225437), ('topologyStats_1d_window', 0.0), ('topologyStats_1d_transferred', 0.031732975238852407), ('topologyStats_3h_completeLatency', 0.0), ('spouts_0_tasks', 0.0), ('bolts_0_capacity', 0.022288136837853353), ('spouts_0_completeLatency', 0.0), ('spouts_0_emitted', 0.064115746507694138), ('spouts_0_acked', 0.0), ('spouts_0_failed', 0.0), ('spouts_0_executors', 0.0), ('bolts_0_executed', 0.096438204646081771), ('spouts_0_transferred', 0.081254250664071381), ('bolts_0_transferred', 0.072604030966688687), ('topologyStats_3h_acked', 0.0)]"
   ]
  },
  {
   "cell_type": "code",
   "execution_count": 10,
   "metadata": {},
   "outputs": [
    {
     "data": {
      "text/plain": [
       "list"
      ]
     },
     "execution_count": 10,
     "metadata": {},
     "output_type": "execute_result"
    }
   ],
   "source": [
    "type(l1)\n",
    "type(l2)"
   ]
  },
  {
   "cell_type": "code",
   "execution_count": 11,
   "metadata": {},
   "outputs": [],
   "source": [
    "dl1 = dict(l1)\n",
    "dl2 = dict(l2)"
   ]
  },
  {
   "cell_type": "code",
   "execution_count": 1,
   "metadata": {},
   "outputs": [
    {
     "ename": "NameError",
     "evalue": "name 'dl1' is not defined",
     "traceback": [
      "\u001b[0;31m---------------------------------------------------------------------------\u001b[0m",
      "\u001b[0;31mNameError\u001b[0m                                 Traceback (most recent call last)",
      "\u001b[0;32m<ipython-input-1-829fa186ba9c>\u001b[0m in \u001b[0;36m<module>\u001b[0;34m()\u001b[0m\n\u001b[1;32m      2\u001b[0m \u001b[0;32mimport\u001b[0m \u001b[0mpandas\u001b[0m \u001b[0;32mas\u001b[0m \u001b[0mpd\u001b[0m\u001b[0;34m\u001b[0m\u001b[0m\n\u001b[1;32m      3\u001b[0m \u001b[0;32mimport\u001b[0m \u001b[0mos\u001b[0m\u001b[0;34m\u001b[0m\u001b[0m\n\u001b[0;32m----> 4\u001b[0;31m \u001b[0mdata\u001b[0m \u001b[0;34m=\u001b[0m \u001b[0mpd\u001b[0m\u001b[0;34m.\u001b[0m\u001b[0mDataFrame\u001b[0m\u001b[0;34m(\u001b[0m\u001b[0mdl1\u001b[0m\u001b[0;34m.\u001b[0m\u001b[0mitems\u001b[0m\u001b[0;34m(\u001b[0m\u001b[0;34m)\u001b[0m\u001b[0;34m,\u001b[0m \u001b[0mcolumns\u001b[0m\u001b[0;34m=\u001b[0m\u001b[0;34m[\u001b[0m\u001b[0;34m'Metric'\u001b[0m\u001b[0;34m,\u001b[0m \u001b[0;34m'Importance'\u001b[0m\u001b[0;34m]\u001b[0m\u001b[0;34m)\u001b[0m\u001b[0;34m\u001b[0m\u001b[0m\n\u001b[0m\u001b[1;32m      5\u001b[0m \u001b[0msdata\u001b[0m \u001b[0;34m=\u001b[0m \u001b[0mdata\u001b[0m\u001b[0;34m.\u001b[0m\u001b[0msort\u001b[0m\u001b[0;34m(\u001b[0m\u001b[0;34m'Importance'\u001b[0m\u001b[0;34m,\u001b[0m \u001b[0mascending\u001b[0m\u001b[0;34m=\u001b[0m\u001b[0mFalse\u001b[0m\u001b[0;34m)\u001b[0m\u001b[0;34m\u001b[0m\u001b[0m\n\u001b[1;32m      6\u001b[0m \u001b[0msdata\u001b[0m\u001b[0;34m.\u001b[0m\u001b[0mto_csv\u001b[0m\u001b[0;34m(\u001b[0m\u001b[0mos\u001b[0m\u001b[0;34m.\u001b[0m\u001b[0mpath\u001b[0m\u001b[0;34m.\u001b[0m\u001b[0mjoin\u001b[0m\u001b[0;34m(\u001b[0m\u001b[0mdataDir\u001b[0m\u001b[0;34m,\u001b[0m \u001b[0;34m'imp_test.csv'\u001b[0m\u001b[0;34m)\u001b[0m\u001b[0;34m)\u001b[0m\u001b[0;34m\u001b[0m\u001b[0m\n",
      "\u001b[0;31mNameError\u001b[0m: name 'dl1' is not defined"
     ],
     "output_type": "error"
    }
   ],
   "source": [
    "dataDir = \"/Users/Gabriel/Documents/workspaces/diceWorkspace/dmon-adp/data\"\n",
    "import pandas as pd\n",
    "import os\n",
    "data = pd.DataFrame(dl1.items(), columns=['Metric', 'Importance'])\n",
    "sdata = data.sort('Importance', ascending=False)\n",
    "sdata.to_csv(os.path.join(dataDir, 'imp_test.csv'))\n",
    "\n",
    "data2 = pd.DataFrame(dl2.items(), columns=['Metric', 'Importance'])\n",
    "sdata2 = data2.sort('Importance', ascending=False)\n",
    "sdata2.to_csv(os.path.join(dataDir, 'imp_test_2.csv'))"
   ]
  },
  {
   "cell_type": "code",
   "execution_count": null,
   "metadata": {},
   "outputs": [],
   "source": [
    ""
   ]
  }
 ],
 "metadata": {
  "kernelspec": {
   "display_name": "Python 2",
   "language": "python",
   "name": "python2"
  },
  "language_info": {
   "codemirror_mode": {
    "name": "ipython",
    "version": 2.0
   },
   "file_extension": ".py",
   "mimetype": "text/x-python",
   "name": "python",
   "nbconvert_exporter": "python",
   "pygments_lexer": "ipython2",
   "version": "2.7.6"
  }
 },
 "nbformat": 4,
 "nbformat_minor": 0
}