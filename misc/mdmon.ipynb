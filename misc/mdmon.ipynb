{
 "cells": [
  {
   "cell_type": "code",
   "execution_count": 1,
   "metadata": {
    "collapsed": true
   },
   "outputs": [],
   "source": [
    "import pandas as pd\n",
    "from IPython.display import display\n",
    "from IPython.display import Image\n",
    "import os\n",
    "\n",
    "dataDir = \"/Users/Gabriel/Documents/workspaces/diceWorkspace/dmon-adp/data\""
   ]
  },
  {
   "cell_type": "code",
   "execution_count": 2,
   "metadata": {},
   "outputs": [
    {
     "name": "stdout",
     "output_type": "stream",
     "text": [
      "(60218, 56)\n"
     ]
    },
    {
     "data": {
      "text/plain": [
       "key                                    int64\nbolts_0_acked                        float64\ntopologyStats_all_transferred        float64\nbolts_0_tasks                        float64\nbolts_0_failed                       float64\nbolts_0_executors                    float64\ntopologyStats_3h_window              float64\ntopologyStats_all_acked              float64\ntopologyStats_all_completeLatency    float64\ntopologyStats_all_emitted            float64\ntopologyStats_all_failed             float64\ntopologyStats_3h_emitted             float64\ntopologyStats_3h_failed              float64\nbolts_1_executeLatency               float64\nbolts_1_processLatency               float64\nbolts_1_tasks                        float64\nbolts_1_transferred                  float64\nbolts_1_executors                    float64\nbolts_1_failed                       float64\nbolts_1_emitted                      float64\nbolts_1_executed                     float64\nbolts_1_acked                        float64\nbolts_1_capacity                     float64\nmsgTimeout                           float64\nexecutorsTotal                       float64\nworkersTotal                         float64\ntasksTotal                           float64\ntopologyStats_10m_completeLatency    float64\ntopologyStats_10m_acked              float64\ntopologyStats_10m_failed             float64\ntopologyStats_10m_emitted            float64\ntopologyStats_1d_completeLatency     float64\ntopologyStats_1d_acked               float64\nbolts_0_emitted                      float64\ntopologyStats_1d_emitted             float64\ntopologyStats_10m_window             float64\ntopologyStats_10m_transferred        float64\nbolts_0_processLatency               float64\nbolts_0_executeLatency               float64\ntopologyStats_1d_failed              float64\ntopologyStats_3h_transferred         float64\ntopologyStats_1d_window              float64\ntopologyStats_1d_transferred         float64\ntopologyStats_3h_completeLatency     float64\nspouts_0_tasks                       float64\nbolts_0_capacity                     float64\nspouts_0_completeLatency             float64\nspouts_0_emitted                     float64\nspouts_0_acked                       float64\nspouts_0_failed                      float64\nspouts_0_executors                   float64\nbolts_0_executed                     float64\nspouts_0_transferred                 float64\nbolts_0_transferred                  float64\ntopologyStats_3h_acked               float64\nTarget                                 int64\ndtype: object"
      ]
     },
     "execution_count": 2,
     "metadata": {},
     "output_type": "execute_result"
    }
   ],
   "source": [
    "df = pd.read_csv(os.path.join(dataDir, \"Storm_Complete_labeled.csv\"))\n",
    "print df.shape\n",
    "# df2 = pd.read_csv(os.path.join(dataDir, \"Storm_anomalies_Clustered.csv\"))\n",
    "# df_nokey = df.drop(\"key\", 1)\n",
    "# print df_nokey.shape\n",
    "# print df2.shape\n",
    "df.dtypes"
   ]
  },
  {
   "cell_type": "code",
   "execution_count": 3,
   "metadata": {},
   "outputs": [
    {
     "name": "stdout",
     "output_type": "stream",
     "text": [
      "(6624, 55)\n"
     ]
    }
   ],
   "source": [
    "# add only anomalies to clustering\n",
    "data_labeled = df[df[\"Target\"] == -1]\n",
    "data_labeled.set_index('key', inplace=True)\n",
    "print data_labeled.shape"
   ]
  },
  {
   "cell_type": "code",
   "execution_count": 4,
   "metadata": {},
   "outputs": [],
   "source": [
    "from sklearn.cluster import DBSCAN\n",
    "from sklearn.preprocessing import StandardScaler\n",
    "X = StandardScaler().fit_transform(data_labeled)\n",
    "db = DBSCAN(eps=0.9, min_samples=40).fit(X)\n",
    "labels = db.labels_"
   ]
  },
  {
   "cell_type": "code",
   "execution_count": 5,
   "metadata": {},
   "outputs": [
    {
     "name": "stdout",
     "output_type": "stream",
     "text": [
      "[-1 -1 -1 ..., 13  9 -1]\n19\n"
     ]
    }
   ],
   "source": [
    "print labels\n",
    "n_clusters_ = len(set(labels)) - (1 if -1 in labels else 0)\n",
    "print n_clusters_"
   ]
  },
  {
   "cell_type": "code",
   "execution_count": 6,
   "metadata": {
    "collapsed": true
   },
   "outputs": [
    {
     "name": "stdout",
     "output_type": "stream",
     "text": [
      "18\n               Target  Target2\nkey                           \n1497445890000      -1       20\n1497445900000      -1       20\n1497445910000      -1       20\n1497445920000      -1       20\n1497445930000      -1       20\n1497445940000      -1       20\n1497445950000      -1       20\n1497445960000      -1       20\n1497445970000      -1       20\n1497445980000      -1       20\n1497445990000      -1       20\n1497446000000      -1       20\n1497446010000      -1       20\n1497446020000      -1       20\n1497446030000      -1       20\n1497446040000      -1       20\n1497446050000      -1       20\n1497446060000      -1       20\n1497446070000      -1       20\n1497446080000      -1       20\n1497446090000      -1       20\n1497446100000      -1       20\n1497446110000      -1       20\n1497446120000      -1       20\n1497446130000      -1       20\n1497446140000      -1       20\n1497446150000      -1       20\n1497446160000      -1       20\n1497446170000      -1       20\n1497446180000      -1       20\n...               ...      ...\n1498047770000      -1       20\n1498047780000      -1       20\n1498047790000      -1       20\n1498047800000      -1       20\n1498047810000      -1       20\n1498047820000      -1       20\n1498047830000      -1       20\n1498047840000      -1       20\n1498047850000      -1       20\n1498047860000      -1       14\n1498047870000      -1       20\n1498047880000      -1       17\n1498047890000      -1       14\n1498047900000      -1       10\n1498047910000      -1       17\n1498047920000      -1       14\n1498047930000      -1       20\n1498047940000      -1       17\n1498047950000      -1       14\n1498047960000      -1       10\n1498047970000      -1       15\n1498047980000      -1       14\n1498047990000      -1       10\n1498048000000      -1       15\n1498048010000      -1       14\n1498048020000      -1       10\n1498048030000      -1       20\n1498048040000      -1       14\n1498048050000      -1       10\n1498048060000      -1       20\n\n[6624 rows x 2 columns]\n"
     ]
    },
    {
     "name": "stderr",
     "output_type": "stream",
     "text": [
      "/Library/Frameworks/Python.framework/Versions/2.7/lib/python2.7/site-packages/ipykernel_launcher.py:9: SettingWithCopyWarning: \nA value is trying to be set on a copy of a slice from a DataFrame.\nTry using .loc[row_indexer,col_indexer] = value instead\n\nSee the caveats in the documentation: http://pandas.pydata.org/pandas-docs/stable/indexing.html#indexing-view-versus-copy\n  if __name__ == '__main__':\n"
     ]
    }
   ],
   "source": [
    "import numpy as np\n",
    "# get biggest value\n",
    "bval = np.amax(labels)\n",
    "print bval\n",
    "# replace noise with new label\n",
    "labels[labels == -1] = bval+1\n",
    "# add one to all elements in array so that 0 is free for normal events\n",
    "nlabels = labels +1\n",
    "data_labeled['Target2'] = nlabels\n",
    "print data_labeled[['Target','Target2']]"
   ]
  },
  {
   "cell_type": "code",
   "execution_count": 7,
   "metadata": {},
   "outputs": [
    {
     "data": {
      "text/plain": [
       "array([1497445890000, 1497445900000, 1497445910000, ..., 1498048040000,\n       1498048050000, 1498048060000])"
      ]
     },
     "execution_count": 7,
     "metadata": {},
     "output_type": "execute_result"
    }
   ],
   "source": [
    "normal = np.argwhere(nlabels == 0)\n",
    "normal\n",
    "\n",
    "data_labeled.index.values"
   ]
  },
  {
   "cell_type": "code",
   "execution_count": 8,
   "metadata": {
    "collapsed": true
   },
   "outputs": [],
   "source": [
    "df.set_index('key', inplace=True)\n",
    "# initialize empty column\n",
    "df['TargetF'] = np.nan\n",
    "\n",
    "# add clustered anomalies to original dataframe\n",
    "for k in data_labeled.index.values:\n",
    "    df.set_value(k,'TargetF', data_labeled.loc[k, 'Target2'])    \n",
    "\n",
    "\n",
    "# sentinel = 0\n",
    "# for i, row in df.iterrows():\n",
    "#     if sentinel > 20:\n",
    "#         break\n",
    "#     else:\n",
    "#         print i\n",
    "#         sentinel += 1"
   ]
  },
  {
   "cell_type": "code",
   "execution_count": 11,
   "metadata": {},
   "outputs": [
    {
     "data": {
      "text/plain": [
       "False"
      ]
     },
     "execution_count": 11,
     "metadata": {},
     "output_type": "execute_result"
    }
   ],
   "source": [
    "# df['TargetF']\n",
    "# Mark all normal instances as 0\n",
    "df = df.fillna(0)\n",
    "df.isnull().values.any()"
   ]
  },
  {
   "cell_type": "code",
   "execution_count": 13,
   "metadata": {},
   "outputs": [],
   "source": [
    "df = df.drop(['Target'], axis=1)\n",
    "df.to_csv(os.path.join(dataDir, 'my.csv'))"
   ]
  },
  {
   "cell_type": "code",
   "execution_count": null,
   "metadata": {},
   "outputs": [],
   "source": [
    ""
   ]
  }
 ],
 "metadata": {
  "kernelspec": {
   "display_name": "Python 2",
   "language": "python",
   "name": "python2"
  },
  "language_info": {
   "codemirror_mode": {
    "name": "ipython",
    "version": 2.0
   },
   "file_extension": ".py",
   "mimetype": "text/x-python",
   "name": "python",
   "nbconvert_exporter": "python",
   "pygments_lexer": "ipython2",
   "version": "2.7.6"
  }
 },
 "nbformat": 4,
 "nbformat_minor": 0
}