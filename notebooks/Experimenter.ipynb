{
 "cells": [
  {
   "cell_type": "code",
   "execution_count": 30,
   "metadata": {
    "collapsed": false
   },
   "outputs": [
    {
     "name": "stdout",
     "output_type": "stream",
     "text": [
      "Checking files in data location ...\ncreditcard.csv\ncreditcard.csv.zip\n__init__.py\n\nChecking files in exp location ...\n\nDone!\n"
     ]
    }
   ],
   "source": [
    "import numpy as np\n",
    "import matplotlib.pyplot as plt\n",
    "import itertools\n",
    "from sklearn.ensemble import IsolationForest\n",
    "from sklearn import model_selection\n",
    "from sklearn.ensemble import AdaBoostClassifier\n",
    "from sklearn.ensemble import RandomForestClassifier\n",
    "from sklearn.neural_network import MLPClassifier\n",
    "from sklearn.grid_search import GridSearchCV\n",
    "from sklearn.tree import DecisionTreeClassifier, export_graphviz\n",
    "from sklearn.feature_extraction import DictVectorizer\n",
    "from sklearn.preprocessing import StandardScaler\n",
    "from sklearn.model_selection import train_test_split\n",
    "from sklearn.model_selection import learning_curve\n",
    "from sklearn.metrics import classification_report, confusion_matrix\n",
    "from sklearn.model_selection import cross_val_score\n",
    "from sklearn.model_selection import validation_curve\n",
    "from sklearn.model_selection import KFold\n",
    "from subprocess import check_output\n",
    "import os\n",
    "import pandas as pd\n",
    "import time\n",
    "import scipy\n",
    "from scipy import stats\n",
    "import sys\n",
    "%matplotlib inline\n",
    "\n",
    "print \"Checking files in data location ...\"\n",
    "print(check_output([\"ls\", \"../data\"]).decode(\"utf8\"))\n",
    "\n",
    "print \"Checking files in exp location ...\"\n",
    "print(check_output([\"ls\", \"../exp\"]).decode(\"utf8\"))\n",
    "\n",
    "print \"Done!\""
   ]
  },
  {
   "cell_type": "markdown",
   "metadata": {},
   "source": [
    "Setting location of the data and loading it into a pandas dataframe"
   ]
  },
  {
   "cell_type": "code",
   "execution_count": 31,
   "metadata": {},
   "outputs": [
    {
     "name": "stdout",
     "output_type": "stream",
     "text": [
      "######################################################################################################################################################\nLoading data ...\n"
     ]
    },
    {
     "name": "stdout",
     "output_type": "stream",
     "text": [
      "Data loaded succesfully into dataframe\nData loaded with shape: (284807, 31)\n"
     ]
    },
    {
     "name": "stdout",
     "output_type": "stream",
     "text": [
      "                Time            V1            V2            V3            V4  \\\ncount  284807.000000  2.848070e+05  2.848070e+05  2.848070e+05  2.848070e+05   \nmean    94813.859575  1.165980e-15  3.416908e-16 -1.373150e-15  2.086869e-15   \nstd     47488.145955  1.958696e+00  1.651309e+00  1.516255e+00  1.415869e+00   \nmin         0.000000 -5.640751e+01 -7.271573e+01 -4.832559e+01 -5.683171e+00   \n25%     54201.500000 -9.203734e-01 -5.985499e-01 -8.903648e-01 -8.486401e-01   \n50%     84692.000000  1.810880e-02  6.548556e-02  1.798463e-01 -1.984653e-02   \n75%    139320.500000  1.315642e+00  8.037239e-01  1.027196e+00  7.433413e-01   \nmax    172792.000000  2.454930e+00  2.205773e+01  9.382558e+00  1.687534e+01   \n\n                 V5            V6            V7            V8            V9  \\\ncount  2.848070e+05  2.848070e+05  2.848070e+05  2.848070e+05  2.848070e+05   \nmean   9.604066e-16  1.490107e-15 -5.556467e-16  1.177556e-16 -2.406455e-15   \nstd    1.380247e+00  1.332271e+00  1.237094e+00  1.194353e+00  1.098632e+00   \nmin   -1.137433e+02 -2.616051e+01 -4.355724e+01 -7.321672e+01 -1.343407e+01   \n25%   -6.915971e-01 -7.682956e-01 -5.540759e-01 -2.086297e-01 -6.430976e-01   \n50%   -5.433583e-02 -2.741871e-01  4.010308e-02  2.235804e-02 -5.142873e-02   \n75%    6.119264e-01  3.985649e-01  5.704361e-01  3.273459e-01  5.971390e-01   \nmax    3.480167e+01  7.330163e+01  1.205895e+02  2.000721e+01  1.559499e+01   \n\n           ...                 V21           V22           V23           V24  \\\ncount      ...        2.848070e+05  2.848070e+05  2.848070e+05  2.848070e+05   \nmean       ...        1.656562e-16 -3.444850e-16  2.578648e-16  4.471968e-15   \nstd        ...        7.345240e-01  7.257016e-01  6.244603e-01  6.056471e-01   \nmin        ...       -3.483038e+01 -1.093314e+01 -4.480774e+01 -2.836627e+00   \n25%        ...       -2.283949e-01 -5.423504e-01 -1.618463e-01 -3.545861e-01   \n50%        ...       -2.945017e-02  6.781943e-03 -1.119293e-02  4.097606e-02   \n75%        ...        1.863772e-01  5.285536e-01  1.476421e-01  4.395266e-01   \nmax        ...        2.720284e+01  1.050309e+01  2.252841e+01  4.584549e+00   \n\n                V25           V26           V27           V28         Amount  \\\ncount  2.848070e+05  2.848070e+05  2.848070e+05  2.848070e+05  284807.000000   \nmean   5.340915e-16  1.687098e-15 -3.666453e-16 -1.220404e-16      88.349619   \nstd    5.212781e-01  4.822270e-01  4.036325e-01  3.300833e-01     250.120109   \nmin   -1.029540e+01 -2.604551e+00 -2.256568e+01 -1.543008e+01       0.000000   \n25%   -3.171451e-01 -3.269839e-01 -7.083953e-02 -5.295979e-02       5.600000   \n50%    1.659350e-02 -5.213911e-02  1.342146e-03  1.124383e-02      22.000000   \n75%    3.507156e-01  2.409522e-01  9.104512e-02  7.827995e-02      77.165000   \nmax    7.519589e+00  3.517346e+00  3.161220e+01  3.384781e+01   25691.160000   \n\n               Class  \ncount  284807.000000  \nmean        0.001727  \nstd         0.041527  \nmin         0.000000  \n25%         0.000000  \n50%         0.000000  \n75%         0.000000  \nmax         1.000000  \n\n[8 rows x 31 columns]\n"
     ]
    }
   ],
   "source": [
    "print \"#\" * 150\n",
    "print \"Loading data ...\"\n",
    "dataDir = '../data'\n",
    "expDir = '../exp'\n",
    "data = os.path.join(dataDir, 'creditcard.csv')\n",
    "df = pd.read_csv(data)\n",
    "print \"Data loaded succesfully into dataframe\"\n",
    "\n",
    "print\"Data loaded with shape: {}\".format(df.shape)\n",
    "# print df.head(10)\n",
    "# print df.columns\n",
    "print df.describe()"
   ]
  },
  {
   "cell_type": "code",
   "execution_count": 32,
   "metadata": {},
   "outputs": [
    {
     "data": {
      "text/plain": [
       "count       492.000000\nmean      80746.806911\nstd       47835.365138\nmin         406.000000\n25%       41241.500000\n50%       75568.500000\n75%      128483.000000\nmax      170348.000000\nName: Time, dtype: float64"
      ]
     },
     "execution_count": 32,
     "metadata": {},
     "output_type": "execute_result"
    }
   ],
   "source": [
    "df.Time[df.Class == 1].describe()"
   ]
  },
  {
   "cell_type": "code",
   "execution_count": 33,
   "metadata": {},
   "outputs": [
    {
     "data": {
      "text/plain": [
       "count    284315.000000\nmean      94838.202258\nstd       47484.015786\nmin           0.000000\n25%       54230.000000\n50%       84711.000000\n75%      139333.000000\nmax      172792.000000\nName: Time, dtype: float64"
      ]
     },
     "execution_count": 33,
     "metadata": {},
     "output_type": "execute_result"
    }
   ],
   "source": [
    "df.Time[df.Class == 0].describe()"
   ]
  },
  {
   "cell_type": "code",
   "execution_count": 34,
   "metadata": {},
   "outputs": [
    {
     "data": {
      "image/png": "[encoded data removed]",
      "text/plain": [
       "<Figure size 1152x432 with 2 Axes>"
      ]
     },
     "metadata": {},
     "output_type": "display_data"
    }
   ],
   "source": [
    "f, (ax1, ax2) = plt.subplots(2, 1, sharex=True, figsize=(16, 6))\n",
    "\n",
    "bins = 50\n",
    "\n",
    "ax1.hist(df.Time[df.Class == 1], bins=bins)\n",
    "ax1.set_title('Fraud', color=\"white\")\n",
    "\n",
    "ax2.hist(df.Time[df.Class == 0], bins=bins)\n",
    "ax2.set_title('Normal', color=\"white\")\n",
    "\n",
    "plt.xlabel('Time (in Seconds)', color=\"white\")\n",
    "plt.ylabel('Number of Transactions', color=\"white\")\n",
    "plt.show()"
   ]
  },
  {
   "cell_type": "code",
   "execution_count": 35,
   "metadata": {},
   "outputs": [
    {
     "data": {
      "image/png": "[encoded data removed]",
      "text/plain": [
       "<Figure size 864x288 with 2 Axes>"
      ]
     },
     "metadata": {},
     "output_type": "display_data"
    }
   ],
   "source": [
    "f, (ax1, ax2) = plt.subplots(2, 1, sharex=True, figsize=(12,4))\n",
    "\n",
    "bins = 30\n",
    "\n",
    "ax1.hist(df.Amount[df.Class == 1], bins = bins)\n",
    "ax1.set_title('Fraud')\n",
    "\n",
    "ax2.hist(df.Amount[df.Class == 0], bins = bins)\n",
    "ax2.set_title('Normal')\n",
    "\n",
    "plt.xlabel('Amount ($)')\n",
    "plt.ylabel('Number of Transactions')\n",
    "plt.yscale('log')\n",
    "plt.show()"
   ]
  },
  {
   "cell_type": "code",
   "execution_count": 36,
   "metadata": {},
   "outputs": [],
   "source": [
    "y = df['Class'].values\n",
    "X = df.drop(['Class'], axis=1)"
   ]
  },
  {
   "cell_type": "code",
   "execution_count": 37,
   "metadata": {},
   "outputs": [],
   "source": [
    "X_train, X_test, y_train, y_test = train_test_split(X, y)\n"
   ]
  },
  {
   "cell_type": "code",
   "execution_count": null,
   "metadata": {},
   "outputs": [
    {
     "name": "stdout",
     "output_type": "stream",
     "text": [
      "Feature importance:\nFeature importance Random Forest Training: \n[('Time', 0.010976758603510273), ('V1', 0.015569827501100187), ('V2', 0.008552710624006688), ('V3', 0.011986487180268908), ('V4', 0.02267160190199686), ('V5', 0.006345584992281622), ('V6', 0.007739132156629316), ('V7', 0.024218543390142712), ('V8', 0.013584534166948067), ('V9', 0.021851571443440743), ('V10', 0.06972511710237142), ('V11', 0.09985531178039113), ('V12', 0.1604030887694779), ('V13', 0.00917231616382267), ('V14', 0.08174322719694897), ('V15', 0.013410321711527933), ('V16', 0.09286757940437076), ('V17', 0.16851370142314187), ('V18', 0.018480763138439087), ('V19', 0.008815868120994242), ('V20', 0.020797740048902436), ('V21', 0.012392402411850153), ('V22', 0.015825921791158257), ('V23', 0.003723263068592582), ('V24', 0.007882317111484988), ('V25', 0.010811521693465453), ('V26', 0.021397687530480936), ('V27', 0.01908328380622211), ('V28', 0.00960147264600326), ('Amount', 0.012000343120028458)]\n"
     ]
    }
   ],
   "source": [
    "start_time_b = time.time()\n",
    "rfb = RandomForestClassifier()\n",
    "rfb.fit(X, y)\n",
    "score_RF = rfb.score(X, y)\n",
    "predictrf = rfb.predict(X)\n",
    "print \"Training Score Random Forest: %s\" % score_RF\n",
    "elapsed_time_g = time.time() - start_time_b\n",
    "print \"Training Baseline for Random Forest took: %s\" % str(elapsed_time_g)"
   ]
  },
  {
   "cell_type": "code",
   "execution_count": 40,
   "metadata": {},
   "outputs": [
    {
     "name": "stdout",
     "output_type": "stream",
     "text": [
      "Feature importance:\nFeature importance Random Forest Training: \n[('Time', 0.010976758603510273), ('V1', 0.015569827501100187), ('V2', 0.008552710624006688), ('V3', 0.011986487180268908), ('V4', 0.02267160190199686), ('V5', 0.006345584992281622), ('V6', 0.007739132156629316), ('V7', 0.024218543390142712), ('V8', 0.013584534166948067), ('V9', 0.021851571443440743), ('V10', 0.06972511710237142), ('V11', 0.09985531178039113), ('V12', 0.1604030887694779), ('V13', 0.00917231616382267), ('V14', 0.08174322719694897), ('V15', 0.013410321711527933), ('V16', 0.09286757940437076), ('V17', 0.16851370142314187), ('V18', 0.018480763138439087), ('V19', 0.008815868120994242), ('V20', 0.020797740048902436), ('V21', 0.012392402411850153), ('V22', 0.015825921791158257), ('V23', 0.003723263068592582), ('V24', 0.007882317111484988), ('V25', 0.010811521693465453), ('V26', 0.021397687530480936), ('V27', 0.01908328380622211), ('V28', 0.00960147264600326), ('Amount', 0.012000343120028458)]\n"
     ]
    }
   ],
   "source": [
    "\n",
    "\n",
    "print \"Feature importance:\"\n",
    "fimp = list(zip(X, rfb.feature_importances_))\n",
    "print \"Feature importance Random Forest Training: \"\n",
    "print fimp\n"
   ]
  },
  {
   "cell_type": "code",
   "execution_count": 42,
   "metadata": {},
   "outputs": [],
   "source": [
    "dfimp = dict(fimp)\n",
    "dfimp = pd.DataFrame(dfimp.items(), columns=['Metric', 'Importance'])\n",
    "sdfimp = dfimp.sort_values('Importance', ascending=False)\n",
    "dfimpCsv = 'Feature_Importance_RF_%s.csv' % 'DM'\n",
    "sdfimp.to_csv(os.path.join(expDir, dfimpCsv))\n"
   ]
  },
  {
   "cell_type": "code",
   "execution_count": null,
   "metadata": {},
   "outputs": [],
   "source": []
  }
 ],
 "metadata": {
  "kernelspec": {
   "display_name": "Python 2",
   "language": "python",
   "name": "python2"
  },
  "language_info": {
   "codemirror_mode": {
    "name": "ipython",
    "version": 2
   },
   "file_extension": ".py",
   "mimetype": "text/x-python",
   "name": "python",
   "nbconvert_exporter": "python",
   "pygments_lexer": "ipython2",
   "version": "2.7.6"
  }
 },
 "nbformat": 4,
 "nbformat_minor": 0
}
